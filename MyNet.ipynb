{
 "cells": [
  {
   "cell_type": "code",
   "execution_count": null,
   "metadata": {},
   "outputs": [],
   "source": [
    "# Importing Required Dependencies\n",
    "\n",
    "import keras\n",
    "from keras.models import Sequential\n",
    "from keras.layers import Dense, Activation, Dropout, Flatten,Conv2D, MaxPooling2D\n",
    "from keras.layers.normalization import BatchNormalization\n",
    "import matplotlib.pyplot as plt\n",
    "from tensorflow.python.keras.preprocessing.image import ImageDataGenerator\n",
    "from keras.regularizers import l2\n",
    "import os\n",
    "import numpy as np\n",
    "np.random.seed(1000)\n",
    "import cv2"
   ]
  },
  {
   "cell_type": "code",
   "execution_count": null,
   "metadata": {},
   "outputs": [],
   "source": [
    "#Initializing the shape of the MyNet \n",
    "\n",
    "\n",
    "def MyNet(width = 256, height = 256, depth =24, classes = 6):\n",
    "\n",
    "    #  Create a sequential model\n",
    "    model = Sequential()\n",
    "\n",
    "    # 1st Convolutional Layer\n",
    "    model.add(Conv2D(filters=96, input_shape=(256,256,3), kernel_size=(11,11), strides=(4,4), padding='valid'))\n",
    "    model.add(Activation('relu'))\n",
    "    # Pooling \n",
    "    model.add(MaxPooling2D(pool_size=(2,2), strides=(2,2), padding='valid'))\n",
    "    # Batch Normalisation before passing it to the next layer\n",
    "    model.add(BatchNormalization())\n",
    "\n",
    "    # 2nd Convolutional Layer\n",
    "    model.add(Conv2D(filters=256, kernel_size=(11,11), strides=(1,1), padding='valid'))\n",
    "    model.add(Activation('relu'))\n",
    "    # Pooling\n",
    "    model.add(MaxPooling2D(pool_size=(2,2), strides=(2,2), padding='valid'))\n",
    "    # Batch Normalisation\n",
    "    model.add(BatchNormalization())\n",
    "\n",
    "    # 3rd Convolutional Layer\n",
    "    model.add(Conv2D(filters=384, kernel_size=(3,3), strides=(1,1), padding='valid'))\n",
    "    model.add(Activation('relu'))\n",
    "    # Batch Normalisation\n",
    "    model.add(BatchNormalization())\n",
    "\n",
    "    # 4th Convolutional Layer\n",
    "    model.add(Conv2D(filters=384, kernel_size=(3,3), strides=(1,1), padding='valid'))\n",
    "    model.add(Activation('relu'))\n",
    "    # Batch Normalisation\n",
    "    model.add(BatchNormalization())\n",
    "\n",
    "    # 5th Convolutional Layer\n",
    "    model.add(Conv2D(filters=256, kernel_size=(3,3), strides=(1,1), padding='valid'))\n",
    "    model.add(Activation('relu'))\n",
    "    # Pooling\n",
    "    model.add(MaxPooling2D(pool_size=(2,2), strides=(2,2), padding='valid'))\n",
    "    # Batch Normalisation\n",
    "    model.add(BatchNormalization())\n",
    "\n",
    "    # Passing it to a dense layer\n",
    "    model.add(Flatten())\n",
    "    # 1st Dense Layer\n",
    "    model.add(Dense(4096, input_shape=(256*256*3,)))\n",
    "    model.add(Activation('relu'))\n",
    "    # Add Dropout to prevent overfitting\n",
    "    model.add(Dropout(0.4))\n",
    "    # Batch Normalisation\n",
    "    model.add(BatchNormalization())\n",
    "\n",
    "    # 2nd Dense Layer\n",
    "    model.add(Dense(4096))\n",
    "    model.add(Activation('relu'))\n",
    "    # Add Dropout\n",
    "    model.add(Dropout(0.4))\n",
    "    # Batch Normalisation\n",
    "    model.add(BatchNormalization())\n",
    "\n",
    "    # 3rd Dense Layer\n",
    "    model.add(Dense(1000))\n",
    "    model.add(Activation('relu'))\n",
    "    # Add Dropout\n",
    "    model.add(Dropout(0.4))\n",
    "    # Batch Normalisation\n",
    "    model.add(BatchNormalization())\n",
    "\n",
    "    # Output Layer\n",
    "    model.add(Dense(3))\n",
    "    model.add(Activation('softmax'))\n",
    "    \n",
    "    return model"
   ]
  },
  {
   "cell_type": "code",
   "execution_count": null,
   "metadata": {},
   "outputs": [],
   "source": [
    "# Importing the datasets as required\n",
    "\n",
    "data_dir = \"Dataset/\"\n",
    "train_dir = os.path.join(data_dir, \"train\")\n",
    "test_dir = os.path.join(data_dir, \"test\")"
   ]
  },
  {
   "cell_type": "code",
   "execution_count": null,
   "metadata": {},
   "outputs": [],
   "source": [
    "# Data Augmentation Steps\n",
    "\n",
    "batch_size = 64\n",
    "\n",
    "datagen_train = ImageDataGenerator(rescale=1./255,rotation_range=40,width_shift_range=0.2,height_shift_range=0.2,\n",
    "                                   shear_range=0.2,zoom_range=0.2,horizontal_flip=True,fill_mode='nearest')\n",
    "\n",
    "datagen_test = ImageDataGenerator(rescale=1./255)"
   ]
  },
  {
   "cell_type": "code",
   "execution_count": null,
   "metadata": {},
   "outputs": [],
   "source": [
    "# Train Data Augmentation\n",
    "\n",
    "generator_train = datagen_train.flow_from_directory(directory=train_dir,batch_size=batch_size,target_size=(256,256),\n",
    "                                                    shuffle = True,class_mode = 'categorical')"
   ]
  },
  {
   "cell_type": "code",
   "execution_count": 6,
   "metadata": {},
   "outputs": [
    {
     "name": "stdout",
     "output_type": "stream",
     "text": [
      "Found 335 images belonging to 3 classes.\n"
     ]
    }
   ],
   "source": [
    "# Test Data Augmentation\n",
    "\n",
    "generator_test = datagen_test.flow_from_directory(  directory=test_dir,batch_size=batch_size,target_size=(256,256),\n",
    "                                                  class_mode = 'categorical',shuffle = False)"
   ]
  },
  {
   "cell_type": "code",
   "execution_count": 7,
   "metadata": {},
   "outputs": [],
   "source": [
    "steps_test = generator_test.n "
   ]
  },
  {
   "cell_type": "code",
   "execution_count": 8,
   "metadata": {},
   "outputs": [
    {
     "name": "stdout",
     "output_type": "stream",
     "text": [
      "335\n"
     ]
    }
   ],
   "source": [
    "print(steps_test)"
   ]
  },
  {
   "cell_type": "code",
   "execution_count": 9,
   "metadata": {},
   "outputs": [
    {
     "name": "stdout",
     "output_type": "stream",
     "text": [
      "50\n"
     ]
    }
   ],
   "source": [
    "# Definining the number of iterations\n",
    "\n",
    "epochs = 25\n",
    "steps_per_epoch = 50\n",
    "print(steps_per_epoch)"
   ]
  },
  {
   "cell_type": "code",
   "execution_count": 10,
   "metadata": {},
   "outputs": [
    {
     "name": "stdout",
     "output_type": "stream",
     "text": [
      "_________________________________________________________________\n",
      "Layer (type)                 Output Shape              Param #   \n",
      "=================================================================\n",
      "conv2d_1 (Conv2D)            (None, 62, 62, 96)        34944     \n",
      "_________________________________________________________________\n",
      "activation_1 (Activation)    (None, 62, 62, 96)        0         \n",
      "_________________________________________________________________\n",
      "max_pooling2d_1 (MaxPooling2 (None, 31, 31, 96)        0         \n",
      "_________________________________________________________________\n",
      "batch_normalization_1 (Batch (None, 31, 31, 96)        384       \n",
      "_________________________________________________________________\n",
      "conv2d_2 (Conv2D)            (None, 21, 21, 256)       2973952   \n",
      "_________________________________________________________________\n",
      "activation_2 (Activation)    (None, 21, 21, 256)       0         \n",
      "_________________________________________________________________\n",
      "max_pooling2d_2 (MaxPooling2 (None, 10, 10, 256)       0         \n",
      "_________________________________________________________________\n",
      "batch_normalization_2 (Batch (None, 10, 10, 256)       1024      \n",
      "_________________________________________________________________\n",
      "conv2d_3 (Conv2D)            (None, 8, 8, 384)         885120    \n",
      "_________________________________________________________________\n",
      "activation_3 (Activation)    (None, 8, 8, 384)         0         \n",
      "_________________________________________________________________\n",
      "batch_normalization_3 (Batch (None, 8, 8, 384)         1536      \n",
      "_________________________________________________________________\n",
      "conv2d_4 (Conv2D)            (None, 6, 6, 384)         1327488   \n",
      "_________________________________________________________________\n",
      "activation_4 (Activation)    (None, 6, 6, 384)         0         \n",
      "_________________________________________________________________\n",
      "batch_normalization_4 (Batch (None, 6, 6, 384)         1536      \n",
      "_________________________________________________________________\n",
      "conv2d_5 (Conv2D)            (None, 4, 4, 256)         884992    \n",
      "_________________________________________________________________\n",
      "activation_5 (Activation)    (None, 4, 4, 256)         0         \n",
      "_________________________________________________________________\n",
      "max_pooling2d_3 (MaxPooling2 (None, 2, 2, 256)         0         \n",
      "_________________________________________________________________\n",
      "batch_normalization_5 (Batch (None, 2, 2, 256)         1024      \n",
      "_________________________________________________________________\n",
      "flatten_1 (Flatten)          (None, 1024)              0         \n",
      "_________________________________________________________________\n",
      "dense_1 (Dense)              (None, 4096)              4198400   \n",
      "_________________________________________________________________\n",
      "activation_6 (Activation)    (None, 4096)              0         \n",
      "_________________________________________________________________\n",
      "dropout_1 (Dropout)          (None, 4096)              0         \n",
      "_________________________________________________________________\n",
      "batch_normalization_6 (Batch (None, 4096)              16384     \n",
      "_________________________________________________________________\n",
      "dense_2 (Dense)              (None, 4096)              16781312  \n",
      "_________________________________________________________________\n",
      "activation_7 (Activation)    (None, 4096)              0         \n",
      "_________________________________________________________________\n",
      "dropout_2 (Dropout)          (None, 4096)              0         \n",
      "_________________________________________________________________\n",
      "batch_normalization_7 (Batch (None, 4096)              16384     \n",
      "_________________________________________________________________\n",
      "dense_3 (Dense)              (None, 1000)              4097000   \n",
      "_________________________________________________________________\n",
      "activation_8 (Activation)    (None, 1000)              0         \n",
      "_________________________________________________________________\n",
      "dropout_3 (Dropout)          (None, 1000)              0         \n",
      "_________________________________________________________________\n",
      "batch_normalization_8 (Batch (None, 1000)              4000      \n",
      "_________________________________________________________________\n",
      "dense_4 (Dense)              (None, 3)                 3003      \n",
      "_________________________________________________________________\n",
      "activation_9 (Activation)    (None, 3)                 0         \n",
      "=================================================================\n",
      "Total params: 31,228,483\n",
      "Trainable params: 31,207,347\n",
      "Non-trainable params: 21,136\n",
      "_________________________________________________________________\n"
     ]
    }
   ],
   "source": [
    "# Initializing the model\n",
    "model = MyNet(256,256,24,3)\n",
    "model.summary()"
   ]
  },
  {
   "cell_type": "code",
   "execution_count": 11,
   "metadata": {},
   "outputs": [],
   "source": [
    "# Initialising Optimizer\n",
    "\n",
    "Adam = keras.optimizers.adam(lr=0.001, amsgrad = True)\n",
    "model.compile(loss='categorical_crossentropy', \n",
    "              optimizer= Adam,metrics=['accuracy'])"
   ]
  },
  {
   "cell_type": "code",
   "execution_count": 12,
   "metadata": {},
   "outputs": [
    {
     "name": "stdout",
     "output_type": "stream",
     "text": [
      "Epoch 1/25\n",
      "50/50 [==============================] - 189s 4s/step - loss: 1.4922 - acc: 0.4231 - val_loss: 2.9001 - val_acc: 0.3672\n",
      "Epoch 2/25\n",
      "50/50 [==============================] - 163s 3s/step - loss: 1.1739 - acc: 0.4491 - val_loss: 6.4748 - val_acc: 0.3145\n",
      "Epoch 3/25\n",
      "50/50 [==============================] - 162s 3s/step - loss: 1.1475 - acc: 0.4400 - val_loss: 1.4537 - val_acc: 0.4095\n",
      "Epoch 4/25\n",
      "50/50 [==============================] - 162s 3s/step - loss: 1.1184 - acc: 0.4426 - val_loss: 1.5778 - val_acc: 0.4684\n",
      "Epoch 5/25\n",
      "50/50 [==============================] - 162s 3s/step - loss: 1.0677 - acc: 0.4594 - val_loss: 1.2745 - val_acc: 0.4027\n",
      "Epoch 6/25\n",
      "50/50 [==============================] - 165s 3s/step - loss: 1.0520 - acc: 0.4637 - val_loss: 1.0093 - val_acc: 0.4574\n",
      "Epoch 7/25\n",
      "50/50 [==============================] - 168s 3s/step - loss: 1.0533 - acc: 0.4499 - val_loss: 1.6687 - val_acc: 0.3854\n",
      "Epoch 8/25\n",
      "50/50 [==============================] - 160s 3s/step - loss: 1.0522 - acc: 0.4655 - val_loss: 3.5570 - val_acc: 0.3145\n",
      "Epoch 9/25\n",
      "50/50 [==============================] - 160s 3s/step - loss: 1.0245 - acc: 0.4708 - val_loss: 1.4112 - val_acc: 0.3672\n",
      "Epoch 10/25\n",
      "50/50 [==============================] - 160s 3s/step - loss: 1.0339 - acc: 0.4669 - val_loss: 1.3474 - val_acc: 0.3804\n",
      "Epoch 11/25\n",
      "50/50 [==============================] - 160s 3s/step - loss: 1.0138 - acc: 0.4842 - val_loss: 0.9819 - val_acc: 0.4086\n",
      "Epoch 12/25\n",
      "50/50 [==============================] - 161s 3s/step - loss: 1.0015 - acc: 0.4866 - val_loss: 1.0906 - val_acc: 0.4753\n",
      "Epoch 13/25\n",
      "50/50 [==============================] - 160s 3s/step - loss: 0.9971 - acc: 0.4874 - val_loss: 1.0732 - val_acc: 0.4718\n",
      "Epoch 14/25\n",
      "50/50 [==============================] - 163s 3s/step - loss: 0.9872 - acc: 0.5121 - val_loss: 1.0354 - val_acc: 0.4686\n",
      "Epoch 15/25\n",
      "50/50 [==============================] - 760s 15s/step - loss: 0.9905 - acc: 0.4858 - val_loss: 1.0572 - val_acc: 0.4929\n",
      "Epoch 16/25\n",
      "50/50 [==============================] - 918s 18s/step - loss: 0.9851 - acc: 0.4993 - val_loss: 1.0680 - val_acc: 0.3734\n",
      "Epoch 17/25\n",
      "50/50 [==============================] - 562s 11s/step - loss: 0.9875 - acc: 0.4788 - val_loss: 1.1750 - val_acc: 0.4622\n",
      "Epoch 18/25\n",
      "50/50 [==============================] - 519s 10s/step - loss: 0.9718 - acc: 0.5079 - val_loss: 1.0183 - val_acc: 0.4079\n",
      "Epoch 19/25\n",
      "50/50 [==============================] - 434s 9s/step - loss: 0.9737 - acc: 0.5144 - val_loss: 1.0861 - val_acc: 0.4389\n",
      "Epoch 20/25\n",
      "50/50 [==============================] - 355s 7s/step - loss: 0.9714 - acc: 0.5066 - val_loss: 1.0581 - val_acc: 0.4283\n",
      "Epoch 21/25\n",
      "50/50 [==============================] - 363s 7s/step - loss: 0.9807 - acc: 0.4865 - val_loss: 0.9991 - val_acc: 0.4178\n",
      "Epoch 22/25\n",
      "50/50 [==============================] - 385s 8s/step - loss: 0.9699 - acc: 0.5133 - val_loss: 1.0888 - val_acc: 0.4194\n",
      "Epoch 23/25\n",
      "50/50 [==============================] - 215s 4s/step - loss: 0.9810 - acc: 0.4903 - val_loss: 1.3766 - val_acc: 0.4532\n",
      "Epoch 24/25\n",
      "50/50 [==============================] - 162s 3s/step - loss: 0.9777 - acc: 0.4949 - val_loss: 1.0577 - val_acc: 0.3555\n",
      "Epoch 25/25\n",
      "50/50 [==============================] - 160s 3s/step - loss: 0.9350 - acc: 0.5345 - val_loss: 1.1682 - val_acc: 0.3286\n"
     ]
    }
   ],
   "source": [
    "#Fitting the model\n",
    "\n",
    "history= model.fit_generator(generator_train,epochs=epochs,steps_per_epoch=steps_per_epoch,\n",
    "                             validation_data = generator_test,validation_steps = steps_test)"
   ]
  },
  {
   "cell_type": "code",
   "execution_count": 13,
   "metadata": {},
   "outputs": [
    {
     "data": {
      "text/plain": [
       "Text(0.5,1,'Loss Curves')"
      ]
     },
     "execution_count": 13,
     "metadata": {},
     "output_type": "execute_result"
    },
    {
     "data": {
      "image/png": "[encoded data removed]",
      "text/plain": [
       "<Figure size 576x432 with 1 Axes>"
      ]
     },
     "metadata": {
      "needs_background": "light"
     },
     "output_type": "display_data"
    }
   ],
   "source": [
    "# Plotting the Loss Curves for Training and Validation\n",
    "\n",
    "plt.figure(figsize=[8,6])\n",
    "plt.plot(history.history['loss'],'r',linewidth=3.0)\n",
    "plt.plot(history.history['val_loss'],'b',linewidth=3.0)\n",
    "plt.legend(['Training loss', 'Validation Loss'],fontsize=18)\n",
    "plt.xlabel('Epochs ',fontsize=16)\n",
    "plt.ylabel('Loss',fontsize=16)\n",
    "plt.title('Loss Curves',fontsize=16)"
   ]
  },
  {
   "cell_type": "code",
   "execution_count": 14,
   "metadata": {},
   "outputs": [
    {
     "data": {
      "text/plain": [
       "Text(0.5,1,'Accuracy Curves')"
      ]
     },
     "execution_count": 14,
     "metadata": {},
     "output_type": "execute_result"
    },
    {
     "data": {
      "image/png": "[encoded data removed]",
      "text/plain": [
       "<Figure size 576x432 with 1 Axes>"
      ]
     },
     "metadata": {
      "needs_background": "light"
     },
     "output_type": "display_data"
    }
   ],
   "source": [
    "# Plotting the Accuracy Curves for Training and Validation\n",
    "\n",
    "plt.figure(figsize=[8,6])\n",
    "plt.plot(history.history['acc'],'r',linewidth=3.0)\n",
    "plt.plot(history.history['val_acc'],'b',linewidth=3.0)\n",
    "plt.legend(['Training Accuracy', 'Validation Accuracy'],fontsize=18)\n",
    "plt.xlabel('Epochs ',fontsize=16)\n",
    "plt.ylabel('Accuracy',fontsize=16)\n",
    "plt.title('Accuracy Curves',fontsize=16)"
   ]
  }
 ],
 "metadata": {
  "kernelspec": {
   "display_name": "Python 3",
   "language": "python",
   "name": "python3"
  },
  "language_info": {
   "codemirror_mode": {
    "name": "ipython",
    "version": 3
   },
   "file_extension": ".py",
   "mimetype": "text/x-python",
   "name": "python",
   "nbconvert_exporter": "python",
   "pygments_lexer": "ipython3",
   "version": "3.6.6"
  }
 },
 "nbformat": 4,
 "nbformat_minor": 2
}
